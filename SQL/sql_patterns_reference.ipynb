{
 "cells": [
  {
   "cell_type": "code",
   "execution_count": null,
   "metadata": {},
   "outputs": [],
   "source": [
    "# 1581. customer who visited but did not make any transactions\n",
    "# it is better to use COUNT(*) instead of COUNT(column) \n",
    "# when just counting the number of rows disregarding the columns\n",
    "SELECT V.customer_id, COUNT(*)\n",
    "\n",
    "# interesting use of NOT EXISTS\n",
    "WHERE NOT EXISTS (SELECT 1 \n",
    "    FROM Transactions T \n",
    "    WHERE T.visit_id = V.visit_id)"
   ]
  }
 ],
 "metadata": {
  "language_info": {
   "name": "python"
  },
  "orig_nbformat": 4
 },
 "nbformat": 4,
 "nbformat_minor": 2
}
