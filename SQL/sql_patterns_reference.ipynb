{
 "cells": [
  {
   "cell_type": "code",
   "execution_count": null,
   "metadata": {},
   "outputs": [],
   "source": [
    "%%sql\n",
    "-- 197. Rising Temperature\n",
    "-- Joinin the same table to itself to compare yesterday to today\n",
    "-- DATEDIFF() returns an integer of date difference\n",
    "FROM Weather w1\n",
    "JOIN Weather w2 ON DATEDIFF(w1.recordDate, w2.recordDate) = -1"
   ]
  },
  {
   "cell_type": "code",
   "execution_count": 5,
   "metadata": {},
   "outputs": [
    {
     "name": "stdout",
     "output_type": "stream",
     "text": [
      " * sqlite://\n",
      "(sqlite3.OperationalError) no such table: Transactions\n",
      "[SQL: -- 1581. customer who visited but did not make any transactions\n",
      "-- it is better to use COUNT(*) instead of COUNT(column) \n",
      "-- when just counting the number of rows disregarding the columns\n",
      "SELECT V.customer_id, COUNT(*)\n",
      "\n",
      "-- interesting use of NOT EXISTS\n",
      "WHERE NOT EXISTS (SELECT 1 \n",
      "    FROM Transactions T \n",
      "    WHERE T.visit_id = V.visit_id)]\n",
      "(Background on this error at: https://sqlalche.me/e/20/e3q8)\n"
     ]
    }
   ],
   "source": [
    "%%sql\n",
    "-- 1581. customer who visited but did not make any transactions\n",
    "-- it is better to use COUNT(*) instead of COUNT(column) \n",
    "-- when just counting the number of rows disregarding the columns\n",
    "SELECT V.customer_id, COUNT(*)\n",
    "\n",
    "-- interesting use of NOT EXISTS\n",
    "WHERE NOT EXISTS (SELECT 1 \n",
    "    FROM Transactions T \n",
    "    WHERE T.visit_id = V.visit_id)"
   ]
  }
 ],
 "metadata": {
  "kernelspec": {
   "display_name": "Python 3",
   "language": "python",
   "name": "python3"
  },
  "language_info": {
   "codemirror_mode": {
    "name": "ipython",
    "version": 3
   },
   "file_extension": ".py",
   "mimetype": "text/x-python",
   "name": "python",
   "nbconvert_exporter": "python",
   "pygments_lexer": "ipython3",
   "version": "3.12.5"
  },
  "orig_nbformat": 4
 },
 "nbformat": 4,
 "nbformat_minor": 2
}
