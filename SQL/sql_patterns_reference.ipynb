{
 "cells": [
  {
   "cell_type": "code",
   "execution_count": null,
   "metadata": {},
   "outputs": [],
   "source": [
    "%%sql\n",
    "-- 197. Rising Temperature\n",
    "-- Joinin the same table to itself to compare yesterday to today\n",
    "-- DATEDIFF() returns an integer of date difference\n",
    "FROM Weather w1\n",
    "JOIN Weather w2 ON DATEDIFF(w1.recordDate, w2.recordDate) = -1"
   ]
  },
  {
   "cell_type": "code",
   "execution_count": null,
   "metadata": {},
   "outputs": [],
   "source": [
    "%%sql\n",
    "-- 577 Employee Bonus \n",
    "-- This line replaces NULL bonuses with 0 using COALESCE\n",
    "-- If B.bonus is NULL use 0\n",
    "-- If B.bonus is NOT NULL use its actual value\n",
    "-- Then it checks if the resulting value is less than 1000\n",
    "WHERE COALESCE(B.bonus, 0) < 1000"
   ]
  },
  {
   "cell_type": "code",
   "execution_count": null,
   "metadata": {},
   "outputs": [],
   "source": [
    "%%sql\n",
    "-- 620 Not Boring Movies\n",
    "-- Interesting case of using modulo and != in WHERE \n",
    "WHERE id % 2 = 1 AND description != \"boring\""
   ]
  },
  {
   "cell_type": "code",
   "execution_count": null,
   "metadata": {},
   "outputs": [],
   "source": [
    "%%sql\n",
    "-- 1251 Average Selling Price\n",
    "-- Interesting use case of  COALESCE() with other functions\n",
    "COALESCE(ROUND(SUM(units*price)/SUM(units), 2), 0)"
   ]
  },
  {
   "cell_type": "code",
   "execution_count": 2,
   "metadata": {},
   "outputs": [
    {
     "name": "stderr",
     "output_type": "stream",
     "text": [
      "UsageError: Cell magic `%%sql` not found.\n"
     ]
    }
   ],
   "source": [
    "%%sql\n",
    "-- 1280 Students and Examinations\n",
    "-- When you need 0 in the output it is likely you need to use LEFT JOIN \n",
    "-- When we use JOIN all rows from the left table are combined with all rows from the right table \n",
    "\n",
    "-- you can use column numbers in your GROUP BY and ORDER BY \n",
    "GROUP BY 1, 2, 3\n",
    "ORDER BY 1, 3\n",
    "\n",
    "-- you can use two joins in a row when joining three tables\n",
    "-- additionally there can be more than one ON clause for your JOIN\n",
    "JOIN Subjects\n",
    "LEFT JOIN Examinations ON Students.student_id = Examinations.student_id \n",
    "AND Subjects.subject_name = Examinations.subject_name\n"
   ]
  },
  {
   "cell_type": "code",
   "execution_count": 5,
   "metadata": {},
   "outputs": [
    {
     "name": "stdout",
     "output_type": "stream",
     "text": [
      " * sqlite://\n",
      "(sqlite3.OperationalError) no such table: Transactions\n",
      "[SQL: -- 1581. customer who visited but did not make any transactions\n",
      "-- it is better to use COUNT(*) instead of COUNT(column) \n",
      "-- when just counting the number of rows disregarding the columns\n",
      "SELECT V.customer_id, COUNT(*)\n",
      "\n",
      "-- interesting use of NOT EXISTS\n",
      "WHERE NOT EXISTS (SELECT 1 \n",
      "    FROM Transactions T \n",
      "    WHERE T.visit_id = V.visit_id)]\n",
      "(Background on this error at: https://sqlalche.me/e/20/e3q8)\n"
     ]
    }
   ],
   "source": [
    "%%sql\n",
    "-- 1581. customer who visited but did not make any transactions\n",
    "-- it is better to use COUNT(*) instead of COUNT(column) \n",
    "-- when just counting the number of rows disregarding the columns\n",
    "SELECT V.customer_id, COUNT(*)\n",
    "\n",
    "-- interesting use of NOT EXISTS\n",
    "WHERE NOT EXISTS (SELECT 1 \n",
    "    FROM Transactions T \n",
    "    WHERE T.visit_id = V.visit_id)"
   ]
  },
  {
   "cell_type": "code",
   "execution_count": null,
   "metadata": {},
   "outputs": [],
   "source": [
    "%%sql\n",
    "-- 1661. Average Time of Process per Machine\n",
    "-- Remember ROUND() function\n",
    "ROUND(AVG(b.timestamp-a.timestamp)"
   ]
  },
  {
   "cell_type": "code",
   "execution_count": null,
   "metadata": {},
   "outputs": [],
   "source": [
    "%%sql\n",
    "-- 1934. Confirmation Rate\n",
    "-- Interesting use case of AVG, ROUND, and COALESCE all in one line\n",
    "COALESCE(ROUND(AVG(action = \"confirmed\"), 2), 0)"
   ]
  }
 ],
 "metadata": {
  "kernelspec": {
   "display_name": "Python 3",
   "language": "python",
   "name": "python3"
  },
  "language_info": {
   "codemirror_mode": {
    "name": "ipython",
    "version": 3
   },
   "file_extension": ".py",
   "mimetype": "text/x-python",
   "name": "python",
   "nbconvert_exporter": "python",
   "pygments_lexer": "ipython3",
   "version": "3.12.5"
  },
  "orig_nbformat": 4
 },
 "nbformat": 4,
 "nbformat_minor": 2
}
