{
 "cells": [
  {
   "cell_type": "code",
   "execution_count": null,
   "metadata": {},
   "outputs": [],
   "source": [
    "# 15 3Sum\n",
    "# sort() modifies the original list while sorted() does not\n",
    "# ultimately they do the same thing \n",
    "nums.sort()\n",
    "s = sorted(nums)\n",
    "\n",
    "# enumerate() iterates through the list\n",
    "for index, value in enumerate(nums):"
   ]
  },
  {
   "cell_type": "code",
   "execution_count": null,
   "metadata": {},
   "outputs": [],
   "source": [
    "# 125 Valid Palindrome\n",
    "# this line is used to reverse a string \n",
    "n = newStr[::-1]\n",
    "\n",
    "# ord() function gets the ASCII value for characters that can be compared later\n",
    "(ord('A') <= ord(c) <= ord('Z') or \n",
    "ord('a') <= ord(c) <= ord('z') or\n",
    "ord('0') <= ord(c) <= ord('9'))"
   ]
  }
 ],
 "metadata": {
  "language_info": {
   "name": "python"
  },
  "orig_nbformat": 4
 },
 "nbformat": 4,
 "nbformat_minor": 2
}
