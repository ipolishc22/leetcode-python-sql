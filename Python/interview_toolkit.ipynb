{
 "cells": [
  {
   "cell_type": "code",
   "execution_count": null,
   "metadata": {},
   "outputs": [],
   "source": [
    "# 3 Longest Substring Without Repeating Characters\n",
    "# Here are some examples of how to work with hash sets\n",
    "# it is important that you can check if an element is in the hashset without iterating through it\n",
    "# this gives us good time complexity\n",
    "hashSet = set()       \n",
    "while s[right] in hashSet:\n",
    "hashSet.remove(s[left])\n",
    "hashSet.add(s[right])"
   ]
  },
  {
   "cell_type": "code",
   "execution_count": null,
   "metadata": {},
   "outputs": [],
   "source": [
    "# 11 Container With Most Water\n",
    "# notice how min() and max() function is used\n",
    "water = (right-left) * min(heights[left], heights[right])\n",
    "result = max(result, water)"
   ]
  },
  {
   "cell_type": "code",
   "execution_count": null,
   "metadata": {},
   "outputs": [],
   "source": [
    "# 15 3Sum\n",
    "# sort() modifies the original list while sorted() does not\n",
    "# ultimately they do the same thing \n",
    "nums.sort()\n",
    "s = sorted(nums)\n",
    "\n",
    "# enumerate() iterates through the list\n",
    "for index, value in enumerate(nums):"
   ]
  },
  {
   "cell_type": "code",
   "execution_count": null,
   "metadata": {},
   "outputs": [],
   "source": [
    "# 20 Valid Parentheses\n",
    "# This if statement only checks the keys of this dictionary \n",
    "closeToOpen = {\")\":\"(\", \"]\":\"[\", \"}\":\"{\"}\n",
    "if c in closeToOpen:\n",
    "\n",
    "# if the stack is empty \n",
    "if stack:\n",
    "\n",
    "# this gets us the last value that we added to the stack \n",
    "stack[-1]\n",
    "\n",
    "# interesting return format\n",
    "# if not stack is True when the stack is empty \n",
    "return True if not stack else False"
   ]
  },
  {
   "cell_type": "code",
   "execution_count": null,
   "metadata": {},
   "outputs": [],
   "source": [
    "# 21 Merge Two Sorted Lists\n",
    "# loop continues while both lists have nodes to compare\n",
    "# meaning that if one of the lists runs out of nodes the loop will break\n",
    "while list1 and list2:\n",
    "\n",
    "# if list1 is not null \n",
    "# elif list 2 is not null\n",
    "if list1:\n",
    "    tail.next = list1\n",
    "elif list2:\n",
    "    tail.next = list2"
   ]
  },
  {
   "cell_type": "code",
   "execution_count": null,
   "metadata": {},
   "outputs": [],
   "source": [
    "# 125 Valid Palindrome\n",
    "# this line is used to reverse a string \n",
    "n = newStr[::-1]\n",
    "\n",
    "# ord() function gets the ASCII value for characters that can be compared later\n",
    "(ord('A') <= ord(c) <= ord('Z') or \n",
    "ord('a') <= ord(c) <= ord('z') or\n",
    "ord('0') <= ord(c) <= ord('9'))"
   ]
  },
  {
   "cell_type": "code",
   "execution_count": null,
   "metadata": {},
   "outputs": [],
   "source": [
    "# 141 Linked List Cycle\n",
    "# slow and fast are pointers and can be compared\n",
    "if slow == fast:\n",
    "    return True \n",
    "\n",
    "# this expression checks that fast and fast.next are not null\n",
    "# meaning that the list has not ended\n",
    "while fast and fast.next:\n",
    "\n",
    "# when working with linked lists you can use .next twice \n",
    "fast = fast.next.next"
   ]
  },
  {
   "cell_type": "code",
   "execution_count": null,
   "metadata": {},
   "outputs": [],
   "source": [
    "# 153 Find Minimum in Rotated Sorted Array \n",
    "# this line is the main idea in binary search\n",
    "# as it creates the middle pointer\n",
    "mid = (left + right) // 2"
   ]
  },
  {
   "cell_type": "code",
   "execution_count": null,
   "metadata": {},
   "outputs": [],
   "source": [
    "# 424 Longest Repeating Character Replacement\n",
    "# gets the count of the s[right]th element of count dictionary \n",
    "# if it is not present it returns 0 \n",
    "count[s[right]] = 1 + count.get(s[right], 0)"
   ]
  }
 ],
 "metadata": {
  "language_info": {
   "name": "python"
  },
  "orig_nbformat": 4
 },
 "nbformat": 4,
 "nbformat_minor": 2
}
