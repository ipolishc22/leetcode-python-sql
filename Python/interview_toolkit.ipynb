{
 "cells": [
  {
   "cell_type": "code",
   "execution_count": null,
   "metadata": {},
   "outputs": [],
   "source": [
    "# 3 Longest Substring Without Repeating Characters\n",
    "# Here are some examples of how to work with hash sets\n",
    "# it is important that you can check if an element is in the hashset without iterating through it\n",
    "# this gives us good time complexity\n",
    "hashSet = set()       \n",
    "while s[right] in hashSet:\n",
    "hashSet.remove(s[left])\n",
    "hashSet.add(s[right])"
   ]
  },
  {
   "cell_type": "code",
   "execution_count": null,
   "metadata": {},
   "outputs": [],
   "source": [
    "# 11 Container With Most Water\n",
    "# notice how min() and max() function is used\n",
    "water = (right-left) * min(heights[left], heights[right])\n",
    "result = max(result, water)"
   ]
  },
  {
   "cell_type": "code",
   "execution_count": null,
   "metadata": {},
   "outputs": [],
   "source": [
    "# 15 3Sum\n",
    "# sort() modifies the original list while sorted() does not\n",
    "# ultimately they do the same thing \n",
    "nums.sort()\n",
    "s = sorted(nums)\n",
    "\n",
    "# enumerate() iterates through the list\n",
    "for index, value in enumerate(nums):"
   ]
  },
  {
   "cell_type": "code",
   "execution_count": null,
   "metadata": {},
   "outputs": [],
   "source": [
    "# 19 Remove Nth Node From End of List \n",
    "# initializing a dummy node in front of the list\n",
    "dummy = ListNode(0, head)\n",
    "\n",
    "# skipping one node by reassigning the .next\n",
    "left.next = left.next.next\n",
    "\n",
    "# returning the head of the list excluding the dummy node\n",
    "return dummy.next"
   ]
  },
  {
   "cell_type": "code",
   "execution_count": null,
   "metadata": {},
   "outputs": [],
   "source": [
    "# 20 Valid Parentheses\n",
    "# This if statement only checks the keys of this dictionary \n",
    "closeToOpen = {\")\":\"(\", \"]\":\"[\", \"}\":\"{\"}\n",
    "if c in closeToOpen:\n",
    "\n",
    "# if the stack is empty \n",
    "if stack:\n",
    "\n",
    "# this gets us the last value that we added to the stack \n",
    "stack[-1]\n",
    "\n",
    "# interesting return format\n",
    "# if not stack is True when the stack is empty \n",
    "return True if not stack else False"
   ]
  },
  {
   "cell_type": "code",
   "execution_count": null,
   "metadata": {},
   "outputs": [],
   "source": [
    "# 21 Merge Two Sorted Lists\n",
    "# loop continues while both lists have nodes to compare\n",
    "# meaning that if one of the lists runs out of nodes the loop will break\n",
    "while list1 and list2:\n",
    "\n",
    "# if list1 is not null \n",
    "# elif list 2 is not null\n",
    "if list1:\n",
    "    tail.next = list1\n",
    "elif list2:\n",
    "    tail.next = list2"
   ]
  },
  {
   "cell_type": "code",
   "execution_count": null,
   "metadata": {},
   "outputs": [],
   "source": [
    "# 100 Same Tree\n",
    "# this line helps us compare the two nodes and their values\n",
    "if not p or not q or p.val != q.val:"
   ]
  },
  {
   "cell_type": "code",
   "execution_count": null,
   "metadata": {},
   "outputs": [],
   "source": [
    "# 104 Maximum Depth of Binary Tree\n",
    "# recursively calling the same function on both sides of the tree\n",
    "return 1 + max(self.maxDepth(root.left), self.maxDepth(root.right))"
   ]
  },
  {
   "cell_type": "code",
   "execution_count": null,
   "metadata": {},
   "outputs": [],
   "source": [
    "# 125 Valid Palindrome\n",
    "# this line is used to reverse a string \n",
    "n = newStr[::-1]\n",
    "\n",
    "# ord() function gets the ASCII value for characters that can be compared later\n",
    "(ord('A') <= ord(c) <= ord('Z') or \n",
    "ord('a') <= ord(c) <= ord('z') or\n",
    "ord('0') <= ord(c) <= ord('9'))"
   ]
  },
  {
   "cell_type": "code",
   "execution_count": null,
   "metadata": {},
   "outputs": [],
   "source": [
    "# 141 Linked List Cycle\n",
    "# slow and fast are pointers and can be compared\n",
    "if slow == fast:\n",
    "    return True \n",
    "\n",
    "# this expression checks that fast and fast.next are not null\n",
    "# meaning that the list has not ended\n",
    "while fast and fast.next:\n",
    "\n",
    "# when working with linked lists you can use .next twice \n",
    "fast = fast.next.next"
   ]
  },
  {
   "cell_type": "code",
   "execution_count": null,
   "metadata": {},
   "outputs": [],
   "source": [
    "# 143 Reorder List\n",
    "# In the Linked list problems, this is the way to find the middle of the list\n",
    "# This can help when trying to plit the list in two or detect loops.\n",
    "# In this case it is the first step to reordering a list by finding the middle and then\n",
    "# reinserting one list into another \n",
    "slow = head\n",
    "fast = head.next\n",
    "\n",
    "while fast and fast.next:\n",
    "    slow = slow.next\n",
    "    fast = fast.next.next"
   ]
  },
  {
   "cell_type": "code",
   "execution_count": null,
   "metadata": {},
   "outputs": [],
   "source": [
    "# 153 Find Minimum in Rotated Sorted Array \n",
    "# this line is the main idea in binary search\n",
    "# as it creates the middle pointer\n",
    "mid = (left + right) // 2"
   ]
  },
  {
   "cell_type": "code",
   "execution_count": null,
   "metadata": {},
   "outputs": [],
   "source": [
    "# 226 Invert Binary Tree\n",
    "# we check if the root node is null\n",
    "if not root:\n",
    "\n",
    "# we switch the nodes using .left and .right pointers\n",
    "# and the tmp variable that helps us avoid confusion\n",
    "tmp = root.left\n",
    "root.left = root.right\n",
    "root.right = tmp\n",
    "\n",
    "\n",
    "# call the function on each of the branches recursively\n",
    "self.invertTree(root.left)\n",
    "self.invertTree(root.right)"
   ]
  },
  {
   "cell_type": "code",
   "execution_count": null,
   "metadata": {},
   "outputs": [],
   "source": [
    "# 424 Longest Repeating Character Replacement\n",
    "# gets the count of the s[right]th element of count dictionary \n",
    "# if it is not present it returns 0 \n",
    "count[s[right]] = 1 + count.get(s[right], 0)"
   ]
  },
  {
   "cell_type": "code",
   "execution_count": null,
   "metadata": {},
   "outputs": [],
   "source": [
    "# 572 Subtree of Another Tree\n",
    "# in the same problem we have two instances of calling the function on itself twice \n",
    "# within the same return. both times it is meant to recursively work through the left and the right \n",
    "# nodes of root and subRoot\n",
    "return (self.isSubtree(root.left, subRoot) or \n",
    "        self.isSubtree(root.right, subRoot))\n",
    "\n",
    "return (self.sameTree(root.left, subRoot.left) and \n",
    "        self.sameTree(root.right, subRoot.right))"
   ]
  }
 ],
 "metadata": {
  "language_info": {
   "name": "python"
  },
  "orig_nbformat": 4
 },
 "nbformat": 4,
 "nbformat_minor": 2
}
