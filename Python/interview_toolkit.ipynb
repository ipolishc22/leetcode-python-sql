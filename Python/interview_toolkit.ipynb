{
 "cells": [
  {
   "cell_type": "code",
   "execution_count": null,
   "metadata": {},
   "outputs": [],
   "source": [
    "# 125 Valid Palindrome\n",
    "# this line is used to reverse a string \n",
    "n = newStr[::-1]\n",
    "\n",
    "# ord() function gets the ASCII value for characters that can be compared later\n",
    "(ord('A') <= ord(c) <= ord('Z') or \n",
    "ord('a') <= ord(c) <= ord('z') or\n",
    "ord('0') <= ord(c) <= ord('9'))"
   ]
  }
 ],
 "metadata": {
  "language_info": {
   "name": "python"
  },
  "orig_nbformat": 4
 },
 "nbformat": 4,
 "nbformat_minor": 2
}
